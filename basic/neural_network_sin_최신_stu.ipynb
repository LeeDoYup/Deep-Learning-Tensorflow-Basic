{
 "cells": [
  {
   "cell_type": "markdown",
   "metadata": {},
   "source": [
    "# Deep Neural Network (Feedforward NN, Multi-layers Perceptron)\n",
    "\n",
    "## DNN 모델로 1차원 x & y 변수 (sin 함수) 모델링 하기 \n",
    "\n",
    "### Step 1. 데이터 생성\n",
    "\n",
    "이번에는 조금 다르게 y=sin(x)를 따르는 데이터를 임의로 생성한 후,\n",
    "\n",
    "Deep Neural Network 모델을 통해 위의 데이터에 가장 적합한 파라미터인 뉴럴 네트워크의 Weights를 찾는 예제 입니다.\n",
    "\n",
    "이전 예제와 크게 달라진 점은 없고, 생성한 데이터가 sin 함수를 따른다는 것만 차이가 있습니다."
   ]
  },
  {
   "cell_type": "code",
   "execution_count": 1,
   "metadata": {},
   "outputs": [
    {
     "name": "stderr",
     "output_type": "stream",
     "text": [
      "/usr/local/lib/python2.7/site-packages/matplotlib/axes/_axes.py:519: UserWarning: No labelled objects found. Use label='...' kwarg on individual plots.\n",
      "  warnings.warn(\"No labelled objects found. \"\n"
     ]
    },
    {
     "data": {
      "image/png": "[encoded data removed]",
      "text/plain": [
       "<matplotlib.figure.Figure at 0x107f2f550>"
      ]
     },
     "metadata": {},
     "output_type": "display_data"
    }
   ],
   "source": [
    "import numpy as np\n",
    "\n",
    "num_points = 5000\n",
    "vectors_set = []\n",
    "for i in range(num_points):\n",
    "    x1=np.random.normal(.0, 1.0)\n",
    "    y1=###make sin data with random noise\n",
    "    vectors_set.append([x1,y1])\n",
    "\n",
    "x_data = [v[0] for v in vectors_set]\n",
    "y_data = [v[1] for v in vectors_set]\n",
    "\n",
    "\n",
    "import matplotlib.pyplot as plt\n",
    "\n",
    "plt.plot(x_data, y_data, 'ro')\n",
    "plt.legend()\n",
    "plt.show()"
   ]
  },
  {
   "cell_type": "markdown",
   "metadata": {},
   "source": [
    "### Step 2. 모델 구축\n",
    "\n",
    "TF를 이용한 구현의 전반적인 프로세스는 모두 동일합니다.\n",
    "두 번째 단계는 우리가 사용할 Deep Neural Network 모델을 생성하는 것입니다.\n",
    "\n",
    "우선, 주의할 점이 하나 있습니다!\n",
    "DNN 계산은 기본적으로 행렬의 곱셈(matmul)을 이용하여 진행됩니다.\n",
    "\n",
    "하지만 위에서 우리가 생성한 데이터는 rank=1인 리스트입니다.\n",
    "아래를 먼저 볼까요?"
   ]
  },
  {
   "cell_type": "code",
   "execution_count": 2,
   "metadata": {},
   "outputs": [
    {
     "name": "stdout",
     "output_type": "stream",
     "text": [
      "(5000,) 1\n"
     ]
    },
    {
     "name": "stderr",
     "output_type": "stream",
     "text": [
      "/usr/local/lib/python2.7/site-packages/ipykernel_launcher.py:1: VisibleDeprecationWarning: `rank` is deprecated; use the `ndim` attribute or function instead. To find the rank of a matrix see `numpy.linalg.matrix_rank`.\n",
      "  \"\"\"Entry point for launching an IPython kernel.\n"
     ]
    }
   ],
   "source": [
    "print np.shape(x_data), np.rank(x_data)"
   ]
  },
  {
   "cell_type": "markdown",
   "metadata": {},
   "source": [
    "행렬의 곱셈을 이용하여 계산을 할 경우 기본적으로, 2차원 이상의 Tensor 형태여야 합니다.\n",
    "(2차원 이상의 행렬이라고 이해합시다.)\n",
    "\n",
    "행과 열의 개수가 정확하게 결정되어야, 행렬의 곱셈의 결과값의 크기 역시 결정될 수 있겠죠?\n",
    "\n",
    "반면, 위의 예는 현재 데이터의 모양이 (5000,)으로 열의 크기가 정해지지 않았습니다.\n",
    "\n",
    "우선 이 데이터를 2차원으로 바꾸어주겠습니다.\n",
    "\n",
    "2차원으로 바꾸는 방법은 tf.reshape을 이용하여 직접 모양을 결정하는 방법과\n",
    "\n",
    "tf.expand_dims를 통해 특정 축을 기준으로 차원을 증가시키는 방법이 있습니다.\n",
    "\n",
    "주의할 점은 tf 연산을 사용할 경우, 리턴되는 결과 역시 tensorflow의 자료형인 Tensor 자료형이라는 점입니다!"
   ]
  },
  {
   "cell_type": "code",
   "execution_count": 3,
   "metadata": {},
   "outputs": [
    {
     "name": "stdout",
     "output_type": "stream",
     "text": [
      "Tensor(\"Reshape:0\", shape=(5000, 1), dtype=float32)\n",
      "Tensor(\"ExpandDims:0\", shape=(5000, 1), dtype=float32)\n"
     ]
    }
   ],
   "source": [
    "import tensorflow as tf\n",
    "_x_data = tf.reshape(x_data, [len(x_data),1])\n",
    "__x_data = tf.expand_dims(x_data,1)\n",
    "print _x_data\n",
    "print __x_data"
   ]
  },
  {
   "cell_type": "markdown",
   "metadata": {},
   "source": [
    "\n",
    "본격적으로 Neural Network를 구현해보겠습니다.\n",
    "\n",
    "우리의 목표는 input(1)-hidden1(5)-hidden2(3)-output(1) 구조의\n",
    "\n",
    "2개의 hidden layer를 갖는 Deep Neural Network를 구축하는 것입니다.\n",
    "\n",
    "Neural Network의 구현은 매우 간단한데, tf.Variable을 통해 각 레이어 사이의 Weight Matrix를 선언해주고,\n",
    "\n",
    "각 Layer의 계산 결과는 이전 Layer와 해당하는 Weight Matrix 사이의 행렬의 곱. \n",
    "\n",
    "그리고 Activation 두 단계로 구성된다는 점입니다.\n",
    "\n",
    "\n",
    "여기에서 학습의 대상은 Weight 들이니, W1, W2, W_out을 각각 [1,5], [5,3], [3,1] 모양의\n",
    "\n",
    "tf.Variable로 선언하여 모델을 구축해봅시다.\n",
    "\n",
    "초기값은 -1.0과 1.0 사이의 random uniform으로 설정하겠습니다.\n",
    "\n",
    "loss, optimizer train 등의 설정은 이전 예제와 완전히 동일합니다!"
   ]
  },
  {
   "cell_type": "code",
   "execution_count": 4,
   "metadata": {
    "collapsed": true
   },
   "outputs": [],
   "source": [
    "import tensorflow as tf\n",
    "x_data = ###\n",
    "\n",
    "W1 = ###\n",
    "W2 = ###\n",
    "W_out = ###\n",
    "\n",
    "hidden1 = ###\n",
    "hidden2 = ###\n",
    "output = ###\n",
    "\n",
    "loss = ###\n",
    "optimizer = ###\n",
    "train = ###\n",
    "\n",
    "init = ###\n",
    "\n",
    "sess= ###\n",
    "###"
   ]
  },
  {
   "cell_type": "code",
   "execution_count": 5,
   "metadata": {
    "scrolled": true
   },
   "outputs": [
    {
     "name": "stdout",
     "output_type": "stream",
     "text": [
      "Step, Loss Value\n",
      "(0, 0.49045143)\n",
      "Step, Loss Value\n",
      "(1, 0.44349539)\n",
      "Step, Loss Value\n",
      "(2, 0.47619152)\n",
      "Step, Loss Value\n",
      "(3, 0.49230665)\n",
      "Step, Loss Value\n",
      "(4, 0.48994055)\n",
      "Step, Loss Value\n",
      "(5, 0.47916025)\n",
      "Step, Loss Value\n",
      "(6, 0.46721932)\n",
      "Step, Loss Value\n",
      "(7, 0.45785588)\n",
      "Step, Loss Value\n",
      "(8, 0.45136851)\n",
      "Step, Loss Value\n",
      "(9, 0.44697487)\n",
      "Step, Loss Value\n",
      "(10, 0.44412464)\n",
      "Step, Loss Value\n",
      "(11, 0.44229528)\n",
      "Step, Loss Value\n",
      "(12, 0.44107783)\n",
      "Step, Loss Value\n",
      "(13, 0.44042596)\n",
      "Step, Loss Value\n",
      "(14, 0.43985021)\n",
      "Step, Loss Value\n",
      "(15, 0.43951216)\n",
      "Step, Loss Value\n",
      "(16, 0.43932888)\n",
      "Step, Loss Value\n",
      "(17, 0.4390142)\n",
      "Step, Loss Value\n",
      "(18, 0.43895864)\n",
      "Step, Loss Value\n",
      "(19, 0.4387964)\n",
      "Step, Loss Value\n",
      "(20, 0.4388468)\n",
      "Step, Loss Value\n",
      "(21, 0.43878737)\n",
      "Step, Loss Value\n",
      "(22, 0.43871936)\n",
      "Step, Loss Value\n",
      "(23, 0.43873969)\n",
      "Step, Loss Value\n",
      "(24, 0.43866295)\n",
      "Step, Loss Value\n",
      "(25, 0.43861872)\n",
      "Step, Loss Value\n",
      "(26, 0.43852291)\n",
      "Step, Loss Value\n",
      "(27, 0.43855584)\n",
      "Step, Loss Value\n",
      "(28, 0.43849653)\n",
      "Step, Loss Value\n",
      "(29, 0.43851331)\n",
      "Step, Loss Value\n",
      "(30, 0.43852589)\n",
      "Step, Loss Value\n",
      "(31, 0.43850753)\n",
      "Step, Loss Value\n",
      "(32, 0.43850607)\n",
      "Step, Loss Value\n",
      "(33, 0.43850768)\n",
      "Step, Loss Value\n",
      "(34, 0.43851677)\n",
      "Step, Loss Value\n",
      "(35, 0.4385024)\n",
      "Step, Loss Value\n",
      "(36, 0.43852261)\n",
      "Step, Loss Value\n",
      "(37, 0.43855768)\n",
      "Step, Loss Value\n",
      "(38, 0.43853745)\n",
      "Step, Loss Value\n",
      "(39, 0.43852273)\n",
      "Step, Loss Value\n",
      "(40, 0.43852744)\n",
      "Step, Loss Value\n",
      "(41, 0.4385004)\n",
      "Step, Loss Value\n",
      "(42, 0.4385004)\n",
      "Step, Loss Value\n",
      "(43, 0.43850073)\n",
      "Step, Loss Value\n",
      "(44, 0.43849659)\n",
      "Step, Loss Value\n",
      "(45, 0.43847299)\n",
      "Step, Loss Value\n",
      "(46, 0.43845969)\n",
      "Step, Loss Value\n",
      "(47, 0.43844825)\n",
      "Step, Loss Value\n",
      "(48, 0.43842059)\n",
      "Step, Loss Value\n",
      "(49, 0.43841007)\n",
      "Step, Loss Value\n",
      "(50, 0.43842193)\n",
      "Step, Loss Value\n",
      "(51, 0.43841493)\n",
      "Step, Loss Value\n",
      "(52, 0.43839535)\n",
      "Step, Loss Value\n",
      "(53, 0.43840083)\n",
      "Step, Loss Value\n",
      "(54, 0.43840849)\n",
      "Step, Loss Value\n",
      "(55, 0.43840268)\n",
      "Step, Loss Value\n",
      "(56, 0.43839452)\n",
      "Step, Loss Value\n",
      "(57, 0.43839625)\n",
      "Step, Loss Value\n",
      "(58, 0.43839169)\n",
      "Step, Loss Value\n",
      "(59, 0.43839344)\n",
      "Step, Loss Value\n",
      "(60, 0.43838879)\n",
      "Step, Loss Value\n",
      "(61, 0.43837968)\n",
      "Step, Loss Value\n",
      "(62, 0.43837631)\n",
      "Step, Loss Value\n",
      "(63, 0.43838081)\n",
      "Step, Loss Value\n",
      "(64, 0.43838233)\n",
      "Step, Loss Value\n",
      "(65, 0.43838561)\n",
      "Step, Loss Value\n",
      "(66, 0.43838939)\n",
      "Step, Loss Value\n",
      "(67, 0.43839216)\n",
      "Step, Loss Value\n",
      "(68, 0.43838039)\n",
      "Step, Loss Value\n",
      "(69, 0.43838215)\n",
      "Step, Loss Value\n",
      "(70, 0.43838021)\n",
      "Step, Loss Value\n",
      "(71, 0.43837523)\n",
      "Step, Loss Value\n",
      "(72, 0.43837121)\n",
      "Step, Loss Value\n",
      "(73, 0.43836755)\n",
      "Step, Loss Value\n",
      "(74, 0.43836004)\n",
      "Step, Loss Value\n",
      "(75, 0.43835929)\n",
      "Step, Loss Value\n",
      "(76, 0.43835792)\n",
      "Step, Loss Value\n",
      "(77, 0.43835565)\n",
      "Step, Loss Value\n",
      "(78, 0.43835497)\n",
      "Step, Loss Value\n",
      "(79, 0.43835425)\n",
      "Step, Loss Value\n",
      "(80, 0.43835127)\n",
      "Step, Loss Value\n",
      "(81, 0.43834513)\n",
      "Step, Loss Value\n",
      "(82, 0.43835223)\n",
      "Step, Loss Value\n",
      "(83, 0.43835169)\n",
      "Step, Loss Value\n",
      "(84, 0.43834817)\n",
      "Step, Loss Value\n",
      "(85, 0.43834391)\n",
      "Step, Loss Value\n",
      "(86, 0.43834457)\n",
      "Step, Loss Value\n",
      "(87, 0.43834573)\n",
      "Step, Loss Value\n",
      "(88, 0.43834579)\n",
      "Step, Loss Value\n",
      "(89, 0.43834624)\n",
      "Step, Loss Value\n",
      "(90, 0.438346)\n",
      "Step, Loss Value\n",
      "(91, 0.43834555)\n",
      "Step, Loss Value\n",
      "(92, 0.43834928)\n",
      "Step, Loss Value\n",
      "(93, 0.43834791)\n",
      "Step, Loss Value\n",
      "(94, 0.43834388)\n",
      "Step, Loss Value\n",
      "(95, 0.43833452)\n",
      "Step, Loss Value\n",
      "(96, 0.43833497)\n",
      "Step, Loss Value\n",
      "(97, 0.43833351)\n",
      "Step, Loss Value\n",
      "(98, 0.43833271)\n",
      "Step, Loss Value\n",
      "(99, 0.43832415)\n"
     ]
    }
   ],
   "source": [
    "#Train several steps\n",
    "\n",
    "for step in range(100):\n",
    "    ###\n",
    "    print(\"Step, Loss Value\")\n",
    "    print(step, sess.run(loss))"
   ]
  },
  {
   "cell_type": "code",
   "execution_count": 11,
   "metadata": {},
   "outputs": [
    {
     "data": {
      "image/png": "[encoded data removed]",
      "text/plain": [
       "<matplotlib.figure.Figure at 0x11427da10>"
      ]
     },
     "metadata": {},
     "output_type": "display_data"
    }
   ],
   "source": [
    "#plt.plot(x_data, y_data, 'ro')\n",
    "plt.plot(sess.run(x_data)[:], sess.run(output)[:], 'bo')\n",
    "plt.xlabel('x')\n",
    "plt.xlim(-4,3)\n",
    "plt.ylabel('y')\n",
    "plt.ylim(-1.5,1.5)\n",
    "plt.legend()\n",
    "plt.show()"
   ]
  },
  {
   "cell_type": "markdown",
   "metadata": {
    "collapsed": true
   },
   "source": [
    "결과가 말도 안되게 좋지 않은 것을 보실 수 있으신....가....요...?\n",
    "데이터가 있고, DNN을 구축하면 항상 좋은 결과를 주는 것은 아닙니다...\n",
    "\n",
    "어떤 것이 문제일까요? 파이팅!"
   ]
  },
  {
   "cell_type": "markdown",
   "metadata": {},
   "source": [
    "### Tensorboard를 통한 Visualization\n",
    "\n",
    "우리가 만든 모델을 Tensorflow에 내장되어 지원하는 Visualization Software인 Tensorboard를 통해 확인해볼까요?\n",
    "사용하는 방법은 매우 쉽습니다.\n",
    "아래와 같이 tf.summary 모듈에 있는 FileWriter를 선언하고\n",
    "저장하고 싶은 session과 그래프를 지정만 해주면 됩니다."
   ]
  },
  {
   "cell_type": "code",
   "execution_count": 12,
   "metadata": {
    "collapsed": true
   },
   "outputs": [],
   "source": []
  },
  {
   "cell_type": "markdown",
   "metadata": {},
   "source": [
    "Tensorboard의 실행은 주피터가 아닌 터미널 창에서 가능한데요.\n",
    "터미널에 돌아가서 tensorboard를 아래와 같이 실행만 해주면 됩니다.\n",
    "\n",
    "tensorboard --logdir('저장되어 있는 디렉토리') 형식으로 명령해주면 localhost를 통해 접속할 수 있습니다"
   ]
  },
  {
   "cell_type": "code",
   "execution_count": 14,
   "metadata": {},
   "outputs": [
    {
     "name": "stdout",
     "output_type": "stream",
     "text": [
      "Starting TensorBoard 41 on port 6006\n",
      "(You can navigate to http://172.30.62.123:6006)\n",
      "^C\n",
      "Traceback (most recent call last):\n",
      "  File \"/usr/local/bin/tensorboard\", line 11, in <module>\n",
      "    sys.exit(main())\n",
      "  File \"/usr/local/lib/python2.7/site-packages/tensorflow/tensorboard/tensorboard.py\", line 151, in main\n",
      "    tb_server.serve_forever()\n",
      "  File \"/usr/local/Cellar/python/2.7.12/Frameworks/Python.framework/Versions/2.7/lib/python2.7/SocketServer.py\", line 231, in serve_forever\n",
      "    poll_interval)\n",
      "  File \"/usr/local/Cellar/python/2.7.12/Frameworks/Python.framework/Versions/2.7/lib/python2.7/SocketServer.py\", line 150, in _eintr_retry\n",
      "    return func(*args)\n",
      "KeyboardInterrupt\n"
     ]
    }
   ],
   "source": []
  },
  {
   "cell_type": "code",
   "execution_count": null,
   "metadata": {
    "collapsed": true
   },
   "outputs": [],
   "source": []
  }
 ],
 "metadata": {
  "kernelspec": {
   "display_name": "Python 2",
   "language": "python",
   "name": "python2"
  },
  "language_info": {
   "codemirror_mode": {
    "name": "ipython",
    "version": 2
   },
   "file_extension": ".py",
   "mimetype": "text/x-python",
   "name": "python",
   "nbconvert_exporter": "python",
   "pygments_lexer": "ipython2",
   "version": "2.7.12"
  }
 },
 "nbformat": 4,
 "nbformat_minor": 2
}
