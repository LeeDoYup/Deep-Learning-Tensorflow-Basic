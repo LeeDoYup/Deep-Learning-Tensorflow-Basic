{
 "cells": [
  {
   "cell_type": "code",
   "execution_count": null,
   "metadata": {
    "collapsed": true
   },
   "outputs": [],
   "source": [
    "#Generate random sin data\n",
    "import numpy as np\n",
    "\n",
    "num_points = 5000\n",
    "vectors_set = []\n",
    "for i in range(num_points):\n",
    "    x1=np.random.normal(.0, 1.0)\n",
    "    y1=###make sin data with random noise\n",
    "    vectors_set.append([x1,y1])\n",
    "\n",
    "x_data = [v[0] for v in vectors_set]\n",
    "y_data = [v[1] for v in vectors_set]\n",
    "\n",
    "\n",
    "import matplotlib.pyplot as plt\n",
    "\n",
    "plt.plot(x_data, y_data, 'ro')\n",
    "plt.legend()\n",
    "plt.show()"
   ]
  },
  {
   "cell_type": "code",
   "execution_count": null,
   "metadata": {
    "collapsed": true
   },
   "outputs": [],
   "source": [
    "import tensorflow as tf\n",
    "#Expand dimension for matmul (5000,?) --> (5000,1)\n",
    "x_data = tf.expand_dims(x_data,1)\n",
    "x_data = tf.cast(x_data,tf.float32)"
   ]
  },
  {
   "cell_type": "code",
   "execution_count": null,
   "metadata": {
    "collapsed": true
   },
   "outputs": [],
   "source": [
    "#We will make neural network model with no bias term\n",
    "#model: (input)-(hidden1)-(hidden2)-(output)\n",
    "#Make weight variables: W1, W2, W_out\n",
    "\n",
    "W1 = tf.Variable(tf.random_uniform(###shape, \n",
    "                                   -1.0, 1.0), name='W1')\n",
    "W2 = tf.Variable(tf.random_uniform(###shape, \n",
    "                                   -1.0, 1.0), name='W2')\n",
    "W_out = tf.Variable(tf.random_uniform(###shape, \n",
    "                                      -1.0, 1.0), name='W_out')\n",
    "\n",
    "#Make Layers\n",
    "hidden1 = ### first hidden layer with sigmoid activation\n",
    "hidden2 = ### second hidden layer with sigmoid activation\n",
    "output = ###output layer = regression model (only matmul)"
   ]
  },
  {
   "cell_type": "code",
   "execution_count": null,
   "metadata": {
    "collapsed": true
   },
   "outputs": [],
   "source": [
    "#Make Loss and optimizer\n",
    "\n",
    "loss = ### mean square error loss function\n",
    "optimizer = ###AdamOptimizer learning rate = 0.1\n",
    "train = ### train operator which minimize loss function by AdamOptimizer\n",
    "\n",
    "init = ##initalization operator\n",
    "\n",
    "sess= tf.Session()\n",
    "sess.run(init)"
   ]
  },
  {
   "cell_type": "code",
   "execution_count": null,
   "metadata": {
    "collapsed": true
   },
   "outputs": [],
   "source": [
    "#Train several steps\n",
    "for step in range(5000):\n",
    "    sess.run(train)\n",
    "    print(\"Step, Loss Value\")\n",
    "    print(step, sess.run(loss))"
   ]
  },
  {
   "cell_type": "code",
   "execution_count": null,
   "metadata": {
    "collapsed": true
   },
   "outputs": [],
   "source": [
    "#mini-batch learning\n",
    "'''\n",
    "for step in range(5000):\n",
    "    index = 0\n",
    "    x_data, y_data = shuffle_data(x_data, y_data)\n",
    "    for batch_iter in range(BATCH_NUM-1):\n",
    "        feed_dict = {input_data: x_data[index:index+BATCH_SIZE], \n",
    "                     output_data: y_data[index:index+BATCH_SIZE]}\n",
    "        sess.run(train, feed_dict = feed_dict)\n",
    "        print(\"Step, Loss Value\")\n",
    "        print(step, sess.run(loss, feed_dict = feed_dict))\n",
    "        index += BATCH_SIZE\n",
    "'''"
   ]
  },
  {
   "cell_type": "code",
   "execution_count": null,
   "metadata": {
    "collapsed": true
   },
   "outputs": [],
   "source": [
    "#plt.plot(x_data, y_data, 'ro')\n",
    "plt.plot(sess.run(x_data)[:], sess.run(output)[:], 'bo')\n",
    "plt.xlabel('x')\n",
    "plt.xlim(-4,3)\n",
    "plt.ylabel('y')\n",
    "plt.ylim(-1.5,1.5)\n",
    "plt.legend()\n",
    "plt.show()"
   ]
  }
 ],
 "metadata": {
  "kernelspec": {
   "display_name": "Python 2",
   "language": "python",
   "name": "python2"
  },
  "language_info": {
   "codemirror_mode": {
    "name": "ipython",
    "version": 2
   },
   "file_extension": ".py",
   "mimetype": "text/x-python",
   "name": "python",
   "nbconvert_exporter": "python",
   "pygments_lexer": "ipython2",
   "version": "2.7.12"
  }
 },
 "nbformat": 4,
 "nbformat_minor": 2
}
