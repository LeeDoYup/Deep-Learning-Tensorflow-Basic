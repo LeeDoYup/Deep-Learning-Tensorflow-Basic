{
 "cells": [
  {
   "cell_type": "code",
   "execution_count": null,
   "metadata": {},
   "outputs": [],
   "source": [
    "#Data Generation for simple linear regression\n",
    "import numpy as np\n",
    "\n",
    "num_points = 1000\n",
    "vectors_set = []\n",
    "for i in range(num_points):\n",
    "    x1=np.random.normal(0.0, 0.55)\n",
    "    y1 = x1* 0.1 + 0.3 + np.random.normal(0.,0.03)\n",
    "    vectors_set.append([x1,y1])\n",
    "\n",
    "x_data = [v[0] for v in vectors_set]\n",
    "y_data = [v[1] for v in vectors_set]\n",
    "\n",
    "import matplotlib.pyplot as plt\n",
    "\n",
    "plt.plot(x_data, y_data, 'ro')\n",
    "plt.legend()\n",
    "plt.show()"
   ]
  },
  {
   "cell_type": "code",
   "execution_count": null,
   "metadata": {
    "collapsed": true
   },
   "outputs": [],
   "source": [
    "#Construnct linear regression model\n",
    "\n",
    "###import tensorflow as tf\n",
    "\n",
    "W = ###Make Weight Variable with random uniform (-1., 1.): shape=[1]\n",
    "b = ###Make Bias Variable with shape=[1]\n",
    "y = ###Linear Regression Model"
   ]
  },
  {
   "cell_type": "code",
   "execution_count": null,
   "metadata": {
    "collapsed": true
   },
   "outputs": [],
   "source": [
    "# make loss and optimizer\n",
    "# initalization of variables\n",
    "\n",
    "loss = ###Make mean square error loss function. use: tf.reduce_mean, tf.square\n",
    "optimizer = ###Make gradient descent optimizer with learning rate 0.5\n",
    "train = ### Make train operator which minimize loss function by gradient descent method\n",
    "\n",
    "init = ###initialization operater\n",
    "\n",
    "sess = ###Make session\n",
    "### run initalization operater (init)"
   ]
  },
  {
   "cell_type": "code",
   "execution_count": null,
   "metadata": {},
   "outputs": [],
   "source": [
    "#Train several steps\n",
    "for step in range(10):\n",
    "    ###Run train operator\n",
    "    print(\"Step\\t W\\t b\\t\")\n",
    "    print(step, sess.run(W), sess.run(b))\n",
    "    print(\"Loss Value\")\n",
    "    print(step, sess.run(loss))"
   ]
  },
  {
   "cell_type": "code",
   "execution_count": null,
   "metadata": {},
   "outputs": [],
   "source": [
    "plt.plot(x_data, y_data, 'ro')\n",
    "plt.plot(x_data, sess.run(W)*x_data+sess.run(b))\n",
    "plt.xlabel('x')\n",
    "plt.xlim(-2,2)\n",
    "plt.ylabel('y')\n",
    "plt.ylim(0.1,0.6)\n",
    "plt.legend()\n",
    "plt.show()"
   ]
  }
 ],
 "metadata": {
  "kernelspec": {
   "display_name": "Python 2",
   "language": "python",
   "name": "python2"
  },
  "language_info": {
   "codemirror_mode": {
    "name": "ipython",
    "version": 2
   },
   "file_extension": ".py",
   "mimetype": "text/x-python",
   "name": "python",
   "nbconvert_exporter": "python",
   "pygments_lexer": "ipython2",
   "version": "2.7.12"
  }
 },
 "nbformat": 4,
 "nbformat_minor": 2
}
