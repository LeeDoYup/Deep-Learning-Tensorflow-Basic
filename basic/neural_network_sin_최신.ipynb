{
 "cells": [
  {
   "cell_type": "markdown",
   "metadata": {},
   "source": [
    "# Deep Neural Network (Feedforward NN, Multi-layers Perceptron)\n",
    "\n",
    "## DNN 모델로 1차원 x & y 변수 (sin 함수) 모델링 하기 \n",
    "\n",
    "### Step 1. 데이터 생성\n",
    "\n",
    "이번에는 조금 다르게 y=sin(x)를 따르는 데이터를 임의로 생성한 후,\n",
    "\n",
    "Deep Neural Network 모델을 통해 위의 데이터에 가장 적합한 파라미터인 뉴럴 네트워크의 Weights를 찾는 예제 입니다.\n",
    "\n",
    "이전 예제와 크게 달라진 점은 없고, 생성한 데이터가 sin 함수를 따른다는 것만 차이가 있습니다."
   ]
  },
  {
   "cell_type": "code",
   "execution_count": 1,
   "metadata": {},
   "outputs": [
    {
     "name": "stderr",
     "output_type": "stream",
     "text": [
      "/usr/local/lib/python2.7/site-packages/matplotlib/axes/_axes.py:519: UserWarning: No labelled objects found. Use label='...' kwarg on individual plots.\n",
      "  warnings.warn(\"No labelled objects found. \"\n"
     ]
    },
    {
     "data": {
      "image/png": "[encoded data removed]",
      "text/plain": [
       "<matplotlib.figure.Figure at 0x110765590>"
      ]
     },
     "metadata": {},
     "output_type": "display_data"
    }
   ],
   "source": [
    "import numpy as np\n",
    "\n",
    "num_points = 5000\n",
    "vectors_set = []\n",
    "for i in range(num_points):\n",
    "    x1=np.random.normal(.0, 1.0)\n",
    "    y1=np.sin(x1) + np.random.normal(0.,0.1)\n",
    "    vectors_set.append([x1,y1])\n",
    "\n",
    "x_data = [v[0] for v in vectors_set]\n",
    "y_data = [v[1] for v in vectors_set]\n",
    "\n",
    "\n",
    "import matplotlib.pyplot as plt\n",
    "\n",
    "plt.plot(x_data, y_data, 'ro')\n",
    "plt.legend()\n",
    "plt.show()"
   ]
  },
  {
   "cell_type": "markdown",
   "metadata": {},
   "source": [
    "### Step 2. 모델 구축\n",
    "\n",
    "TF를 이용한 구현의 전반적인 프로세스는 모두 동일합니다.\n",
    "두 번째 단계는 우리가 사용할 Deep Neural Network 모델을 생성하는 것입니다.\n",
    "\n",
    "우선, 주의할 점이 하나 있습니다!\n",
    "DNN 계산은 기본적으로 행렬의 곱셈(matmul)을 이용하여 진행됩니다.\n",
    "\n",
    "하지만 위에서 우리가 생성한 데이터는 rank=1인 리스트입니다.\n",
    "아래를 먼저 볼까요?"
   ]
  },
  {
   "cell_type": "code",
   "execution_count": 2,
   "metadata": {},
   "outputs": [
    {
     "name": "stdout",
     "output_type": "stream",
     "text": [
      "(5000,) 1\n"
     ]
    },
    {
     "name": "stderr",
     "output_type": "stream",
     "text": [
      "/usr/local/lib/python2.7/site-packages/ipykernel_launcher.py:1: VisibleDeprecationWarning: `rank` is deprecated; use the `ndim` attribute or function instead. To find the rank of a matrix see `numpy.linalg.matrix_rank`.\n",
      "  \"\"\"Entry point for launching an IPython kernel.\n"
     ]
    }
   ],
   "source": [
    "print np.shape(x_data), np.rank(x_data)"
   ]
  },
  {
   "cell_type": "markdown",
   "metadata": {},
   "source": [
    "행렬의 곱셈을 이용하여 계산을 할 경우 기본적으로, 2차원 이상의 Tensor 형태여야 합니다.\n",
    "(2차원 이상의 행렬이라고 이해합시다.)\n",
    "\n",
    "행과 열의 개수가 정확하게 결정되어야, 행렬의 곱셈의 결과값의 크기 역시 결정될 수 있겠죠?\n",
    "\n",
    "반면, 위의 예는 현재 데이터의 모양이 (5000,)으로 열의 크기가 정해지지 않았습니다.\n",
    "\n",
    "우선 이 데이터를 2차원으로 바꾸어주겠습니다.\n",
    "\n",
    "2차원으로 바꾸는 방법은 tf.reshape을 이용하여 직접 모양을 결정하는 방법과\n",
    "\n",
    "tf.expand_dims를 통해 특정 축을 기준으로 차원을 증가시키는 방법이 있습니다.\n",
    "\n",
    "주의할 점은 tf 연산을 사용할 경우, 리턴되는 결과 역시 tensorflow의 자료형인 Tensor 자료형이라는 점입니다!"
   ]
  },
  {
   "cell_type": "code",
   "execution_count": 3,
   "metadata": {},
   "outputs": [
    {
     "name": "stdout",
     "output_type": "stream",
     "text": [
      "Tensor(\"Reshape:0\", shape=(5000, 1), dtype=float32)\n",
      "Tensor(\"ExpandDims:0\", shape=(5000, 1), dtype=float32)\n"
     ]
    }
   ],
   "source": [
    "import tensorflow as tf\n",
    "_x_data = tf.reshape(x_data, [len(x_data),1])\n",
    "__x_data = tf.expand_dims(x_data,1)\n",
    "print _x_data\n",
    "print __x_data"
   ]
  },
  {
   "cell_type": "markdown",
   "metadata": {},
   "source": [
    "\n",
    "본격적으로 Neural Network를 구현해보겠습니다.\n",
    "\n",
    "우리의 목표는 input(1)-hidden1(5)-hidden2(3)-output(1) 구조의\n",
    "\n",
    "2개의 hidden layer를 갖는 Deep Neural Network를 구축하는 것입니다.\n",
    "\n",
    "Neural Network의 구현은 매우 간단한데, tf.Variable을 통해 각 레이어 사이의 Weight Matrix를 선언해주고,\n",
    "\n",
    "각 Layer의 계산 결과는 이전 Layer와 해당하는 Weight Matrix 사이의 행렬의 곱. \n",
    "\n",
    "그리고 Activation 두 단계로 구성된다는 점입니다.\n",
    "\n",
    "\n",
    "여기에서 학습의 대상은 Weight 들이니, W1, W2, W_out을 각각 [1,5], [5,3], [3,1] 모양의\n",
    "\n",
    "tf.Variable로 선언하여 모델을 구축해봅시다.\n",
    "\n",
    "초기값은 -1.0과 1.0 사이의 random uniform으로 설정하겠습니다.\n",
    "\n",
    "loss, optimizer train 등의 설정은 이전 예제와 완전히 동일합니다!"
   ]
  },
  {
   "cell_type": "code",
   "execution_count": 4,
   "metadata": {},
   "outputs": [],
   "source": [
    "import tensorflow as tf\n",
    "x_data = np.expand_dims(x_data,1)\n",
    "x_data = tf.cast(x_data, 'float32')\n",
    "\n",
    "W1 = tf.Variable(tf.random_uniform([1,5], -1.0, 1.0), name='W1')\n",
    "W2 = tf.Variable(tf.random_uniform([5,3], -1.0, 1.0),name='W2')\n",
    "W_out = tf.Variable(tf.random_uniform([3,1], -1.0, 1.0))\n",
    "\n",
    "hidden1 = tf.nn.sigmoid(tf.matmul(x_data,W1),name='avt1')\n",
    "hidden2 = tf.nn.sigmoid(tf.matmul(hidden1,W2))\n",
    "output = tf.matmul(hidden2, W_out)\n",
    "\n",
    "loss = tf.reduce_mean(tf.square(output-y_data))\n",
    "optimizer = tf.train.AdamOptimizer(0.5)\n",
    "train = optimizer.minimize(loss)\n",
    "\n",
    "init = tf.global_variables_initializer()\n",
    "\n",
    "sess= tf.Session()\n",
    "sess.run(init)"
   ]
  },
  {
   "cell_type": "code",
   "execution_count": 5,
   "metadata": {
    "scrolled": true
   },
   "outputs": [
    {
     "name": "stdout",
     "output_type": "stream",
     "text": [
      "Step, Loss Value\n",
      "(0, 0.4544422)\n",
      "Step, Loss Value\n",
      "(1, 0.47950339)\n",
      "Step, Loss Value\n",
      "(2, 0.46168095)\n",
      "Step, Loss Value\n",
      "(3, 0.45106292)\n",
      "Step, Loss Value\n",
      "(4, 0.44813916)\n",
      "Step, Loss Value\n",
      "(5, 0.44744471)\n",
      "Step, Loss Value\n",
      "(6, 0.44700769)\n",
      "Step, Loss Value\n",
      "(7, 0.44699684)\n",
      "Step, Loss Value\n",
      "(8, 0.44707608)\n",
      "Step, Loss Value\n",
      "(9, 0.44708952)\n",
      "Step, Loss Value\n",
      "(10, 0.44712427)\n",
      "Step, Loss Value\n",
      "(11, 0.4471274)\n",
      "Step, Loss Value\n",
      "(12, 0.44714031)\n",
      "Step, Loss Value\n",
      "(13, 0.44714984)\n",
      "Step, Loss Value\n",
      "(14, 0.44715995)\n"
     ]
    },
    {
     "ename": "KeyboardInterrupt",
     "evalue": "",
     "output_type": "error",
     "traceback": [
      "\u001b[0;31m---------------------------------------------------------------------------\u001b[0m",
      "\u001b[0;31mKeyboardInterrupt\u001b[0m                         Traceback (most recent call last)",
      "\u001b[0;32m<ipython-input-5-98fb6ccd8697>\u001b[0m in \u001b[0;36m<module>\u001b[0;34m()\u001b[0m\n\u001b[1;32m      2\u001b[0m \u001b[0;34m\u001b[0m\u001b[0m\n\u001b[1;32m      3\u001b[0m \u001b[0;32mfor\u001b[0m \u001b[0mstep\u001b[0m \u001b[0;32min\u001b[0m \u001b[0mrange\u001b[0m\u001b[0;34m(\u001b[0m\u001b[0;36m100\u001b[0m\u001b[0;34m)\u001b[0m\u001b[0;34m:\u001b[0m\u001b[0;34m\u001b[0m\u001b[0m\n\u001b[0;32m----> 4\u001b[0;31m     \u001b[0msess\u001b[0m\u001b[0;34m.\u001b[0m\u001b[0mrun\u001b[0m\u001b[0;34m(\u001b[0m\u001b[0mtrain\u001b[0m\u001b[0;34m)\u001b[0m\u001b[0;34m\u001b[0m\u001b[0m\n\u001b[0m\u001b[1;32m      5\u001b[0m     \u001b[0;32mprint\u001b[0m\u001b[0;34m(\u001b[0m\u001b[0;34m\"Step, Loss Value\"\u001b[0m\u001b[0;34m)\u001b[0m\u001b[0;34m\u001b[0m\u001b[0m\n\u001b[1;32m      6\u001b[0m     \u001b[0;32mprint\u001b[0m\u001b[0;34m(\u001b[0m\u001b[0mstep\u001b[0m\u001b[0;34m,\u001b[0m \u001b[0msess\u001b[0m\u001b[0;34m.\u001b[0m\u001b[0mrun\u001b[0m\u001b[0;34m(\u001b[0m\u001b[0mloss\u001b[0m\u001b[0;34m)\u001b[0m\u001b[0;34m)\u001b[0m\u001b[0;34m\u001b[0m\u001b[0m\n",
      "\u001b[0;32m/usr/local/lib/python2.7/site-packages/tensorflow/python/client/session.pyc\u001b[0m in \u001b[0;36mrun\u001b[0;34m(self, fetches, feed_dict, options, run_metadata)\u001b[0m\n\u001b[1;32m    765\u001b[0m     \u001b[0;32mtry\u001b[0m\u001b[0;34m:\u001b[0m\u001b[0;34m\u001b[0m\u001b[0m\n\u001b[1;32m    766\u001b[0m       result = self._run(None, fetches, feed_dict, options_ptr,\n\u001b[0;32m--> 767\u001b[0;31m                          run_metadata_ptr)\n\u001b[0m\u001b[1;32m    768\u001b[0m       \u001b[0;32mif\u001b[0m \u001b[0mrun_metadata\u001b[0m\u001b[0;34m:\u001b[0m\u001b[0;34m\u001b[0m\u001b[0m\n\u001b[1;32m    769\u001b[0m         \u001b[0mproto_data\u001b[0m \u001b[0;34m=\u001b[0m \u001b[0mtf_session\u001b[0m\u001b[0;34m.\u001b[0m\u001b[0mTF_GetBuffer\u001b[0m\u001b[0;34m(\u001b[0m\u001b[0mrun_metadata_ptr\u001b[0m\u001b[0;34m)\u001b[0m\u001b[0;34m\u001b[0m\u001b[0m\n",
      "\u001b[0;32m/usr/local/lib/python2.7/site-packages/tensorflow/python/client/session.pyc\u001b[0m in \u001b[0;36m_run\u001b[0;34m(self, handle, fetches, feed_dict, options, run_metadata)\u001b[0m\n\u001b[1;32m    963\u001b[0m     \u001b[0;32mif\u001b[0m \u001b[0mfinal_fetches\u001b[0m \u001b[0;32mor\u001b[0m \u001b[0mfinal_targets\u001b[0m\u001b[0;34m:\u001b[0m\u001b[0;34m\u001b[0m\u001b[0m\n\u001b[1;32m    964\u001b[0m       results = self._do_run(handle, final_targets, final_fetches,\n\u001b[0;32m--> 965\u001b[0;31m                              feed_dict_string, options, run_metadata)\n\u001b[0m\u001b[1;32m    966\u001b[0m     \u001b[0;32melse\u001b[0m\u001b[0;34m:\u001b[0m\u001b[0;34m\u001b[0m\u001b[0m\n\u001b[1;32m    967\u001b[0m       \u001b[0mresults\u001b[0m \u001b[0;34m=\u001b[0m \u001b[0;34m[\u001b[0m\u001b[0;34m]\u001b[0m\u001b[0;34m\u001b[0m\u001b[0m\n",
      "\u001b[0;32m/usr/local/lib/python2.7/site-packages/tensorflow/python/client/session.pyc\u001b[0m in \u001b[0;36m_do_run\u001b[0;34m(self, handle, target_list, fetch_list, feed_dict, options, run_metadata)\u001b[0m\n\u001b[1;32m   1013\u001b[0m     \u001b[0;32mif\u001b[0m \u001b[0mhandle\u001b[0m \u001b[0;32mis\u001b[0m \u001b[0mNone\u001b[0m\u001b[0;34m:\u001b[0m\u001b[0;34m\u001b[0m\u001b[0m\n\u001b[1;32m   1014\u001b[0m       return self._do_call(_run_fn, self._session, feed_dict, fetch_list,\n\u001b[0;32m-> 1015\u001b[0;31m                            target_list, options, run_metadata)\n\u001b[0m\u001b[1;32m   1016\u001b[0m     \u001b[0;32melse\u001b[0m\u001b[0;34m:\u001b[0m\u001b[0;34m\u001b[0m\u001b[0m\n\u001b[1;32m   1017\u001b[0m       return self._do_call(_prun_fn, self._session, handle, feed_dict,\n",
      "\u001b[0;32m/usr/local/lib/python2.7/site-packages/tensorflow/python/client/session.pyc\u001b[0m in \u001b[0;36m_do_call\u001b[0;34m(self, fn, *args)\u001b[0m\n\u001b[1;32m   1020\u001b[0m   \u001b[0;32mdef\u001b[0m \u001b[0m_do_call\u001b[0m\u001b[0;34m(\u001b[0m\u001b[0mself\u001b[0m\u001b[0;34m,\u001b[0m \u001b[0mfn\u001b[0m\u001b[0;34m,\u001b[0m \u001b[0;34m*\u001b[0m\u001b[0margs\u001b[0m\u001b[0;34m)\u001b[0m\u001b[0;34m:\u001b[0m\u001b[0;34m\u001b[0m\u001b[0m\n\u001b[1;32m   1021\u001b[0m     \u001b[0;32mtry\u001b[0m\u001b[0;34m:\u001b[0m\u001b[0;34m\u001b[0m\u001b[0m\n\u001b[0;32m-> 1022\u001b[0;31m       \u001b[0;32mreturn\u001b[0m \u001b[0mfn\u001b[0m\u001b[0;34m(\u001b[0m\u001b[0;34m*\u001b[0m\u001b[0margs\u001b[0m\u001b[0;34m)\u001b[0m\u001b[0;34m\u001b[0m\u001b[0m\n\u001b[0m\u001b[1;32m   1023\u001b[0m     \u001b[0;32mexcept\u001b[0m \u001b[0merrors\u001b[0m\u001b[0;34m.\u001b[0m\u001b[0mOpError\u001b[0m \u001b[0;32mas\u001b[0m \u001b[0me\u001b[0m\u001b[0;34m:\u001b[0m\u001b[0;34m\u001b[0m\u001b[0m\n\u001b[1;32m   1024\u001b[0m       \u001b[0mmessage\u001b[0m \u001b[0;34m=\u001b[0m \u001b[0mcompat\u001b[0m\u001b[0;34m.\u001b[0m\u001b[0mas_text\u001b[0m\u001b[0;34m(\u001b[0m\u001b[0me\u001b[0m\u001b[0;34m.\u001b[0m\u001b[0mmessage\u001b[0m\u001b[0;34m)\u001b[0m\u001b[0;34m\u001b[0m\u001b[0m\n",
      "\u001b[0;32m/usr/local/lib/python2.7/site-packages/tensorflow/python/client/session.pyc\u001b[0m in \u001b[0;36m_run_fn\u001b[0;34m(session, feed_dict, fetch_list, target_list, options, run_metadata)\u001b[0m\n\u001b[1;32m   1002\u001b[0m         return tf_session.TF_Run(session, options,\n\u001b[1;32m   1003\u001b[0m                                  \u001b[0mfeed_dict\u001b[0m\u001b[0;34m,\u001b[0m \u001b[0mfetch_list\u001b[0m\u001b[0;34m,\u001b[0m \u001b[0mtarget_list\u001b[0m\u001b[0;34m,\u001b[0m\u001b[0;34m\u001b[0m\u001b[0m\n\u001b[0;32m-> 1004\u001b[0;31m                                  status, run_metadata)\n\u001b[0m\u001b[1;32m   1005\u001b[0m \u001b[0;34m\u001b[0m\u001b[0m\n\u001b[1;32m   1006\u001b[0m     \u001b[0;32mdef\u001b[0m \u001b[0m_prun_fn\u001b[0m\u001b[0;34m(\u001b[0m\u001b[0msession\u001b[0m\u001b[0;34m,\u001b[0m \u001b[0mhandle\u001b[0m\u001b[0;34m,\u001b[0m \u001b[0mfeed_dict\u001b[0m\u001b[0;34m,\u001b[0m \u001b[0mfetch_list\u001b[0m\u001b[0;34m)\u001b[0m\u001b[0;34m:\u001b[0m\u001b[0;34m\u001b[0m\u001b[0m\n",
      "\u001b[0;31mKeyboardInterrupt\u001b[0m: "
     ]
    }
   ],
   "source": [
    "#Train several steps\n",
    "\n",
    "for step in range(100):\n",
    "    sess.run(train)\n",
    "    print(\"Step, Loss Value\")\n",
    "    print(step, sess.run(loss))"
   ]
  },
  {
   "cell_type": "code",
   "execution_count": null,
   "metadata": {
    "collapsed": true
   },
   "outputs": [],
   "source": [
    "#plt.plot(x_data, y_data, 'ro')\n",
    "plt.plot(sess.run(x_data)[:], sess.run(output)[:], 'bo')\n",
    "plt.xlabel('x')\n",
    "plt.xlim(-4,3)\n",
    "plt.ylabel('y')\n",
    "plt.ylim(-1.5,1.5)\n",
    "plt.legend()\n",
    "plt.show()"
   ]
  },
  {
   "cell_type": "markdown",
   "metadata": {
    "collapsed": true
   },
   "source": [
    "결과가 말도 안되게 좋지 않은 것을 보실 수 있으신....가....요...?\n",
    "데이터가 있고, DNN을 구축하면 항상 좋은 결과를 주는 것은 아닙니다...\n",
    "\n",
    "어떤 것이 문제일까요? 파이팅!"
   ]
  },
  {
   "cell_type": "markdown",
   "metadata": {},
   "source": [
    "### Tensorboard를 통한 Visualization\n",
    "\n",
    "우리가 만든 모델을 Tensorflow에 내장되어 지원하는 Visualization Software인 Tensorboard를 통해 확인해볼까요?\n",
    "사용하는 방법은 매우 쉽습니다.\n",
    "아래와 같이 tf.summary 모듈에 있는 FileWriter를 선언하고\n",
    "저장하고 싶은 session과 그래프를 지정만 해주면 됩니다."
   ]
  },
  {
   "cell_type": "code",
   "execution_count": 6,
   "metadata": {
    "collapsed": true
   },
   "outputs": [],
   "source": [
    "writer = tf.summary.FileWriter(\"./DNN_Graph\", sess.graph)"
   ]
  },
  {
   "cell_type": "markdown",
   "metadata": {},
   "source": [
    "Tensorboard의 실행은 주피터가 아닌 터미널 창에서 가능한데요.\n",
    "터미널에 돌아가서 tensorboard를 아래와 같이 실행만 해주면 됩니다.\n",
    "\n",
    "tensorboard --logdir('저장되어 있는 디렉토리') 형식으로 명령해주면 localhost를 통해 접속할 수 있습니다"
   ]
  },
  {
   "cell_type": "code",
   "execution_count": null,
   "metadata": {},
   "outputs": [
    {
     "name": "stdout",
     "output_type": "stream",
     "text": [
      "WARNING:tensorflow:Found more than one graph event per run, or there was a metagraph containing a graph_def, as well as one or more graph events.  Overwriting the graph with the newest event.\n",
      "WARNING:tensorflow:Found more than one graph event per run, or there was a metagraph containing a graph_def, as well as one or more graph events.  Overwriting the graph with the newest event.\n",
      "Starting TensorBoard 41 on port 5005\n",
      "(You can navigate to http://10.10.20.42:5005)\n"
     ]
    }
   ],
   "source": [
    "!tensorboard --logdir='./DNN_Graph' --port=5005"
   ]
  },
  {
   "cell_type": "code",
   "execution_count": null,
   "metadata": {
    "collapsed": true
   },
   "outputs": [],
   "source": []
  }
 ],
 "metadata": {
  "kernelspec": {
   "display_name": "Python 2",
   "language": "python",
   "name": "python2"
  },
  "language_info": {
   "codemirror_mode": {
    "name": "ipython",
    "version": 2
   },
   "file_extension": ".py",
   "mimetype": "text/x-python",
   "name": "python",
   "nbconvert_exporter": "python",
   "pygments_lexer": "ipython2",
   "version": "2.7.12"
  }
 },
 "nbformat": 4,
 "nbformat_minor": 2
}
