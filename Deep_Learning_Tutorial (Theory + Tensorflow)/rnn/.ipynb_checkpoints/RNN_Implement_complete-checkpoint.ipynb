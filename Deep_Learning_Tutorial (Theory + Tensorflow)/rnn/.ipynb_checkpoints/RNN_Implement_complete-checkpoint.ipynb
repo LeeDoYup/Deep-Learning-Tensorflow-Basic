{
 "cells": [
  {
   "cell_type": "code",
   "execution_count": null,
   "metadata": {
    "collapsed": true
   },
   "outputs": [],
   "source": [
    "import tensorflow as tf\n",
    "import numpy as np\n",
    "import pandas as pd\n",
    "from data_functions import *"
   ]
  },
  {
   "cell_type": "code",
   "execution_count": null,
   "metadata": {
    "collapsed": true
   },
   "outputs": [],
   "source": [
    "def read_stock_csv(filename):\n",
    "    data = pd.read_csv(filename, header=0)\n",
    "    key = np.array(data.keys(), dtype='string')\n",
    "    value = data.as_matrix() #Data type of value is 'object' --> need to be converted\n",
    "    date, feature = np.array(value[:,0], dtype='string'), np.array(value[:,1:], dtype='float32')\n",
    "    feature = (feature - np.mean(feature, axis=0))/np.std(feature,axis=0)\n",
    "    #Data Normalization for Feature Scaling\n",
    "    return key, date, feature\n",
    "    "
   ]
  },
  {
   "cell_type": "code",
   "execution_count": null,
   "metadata": {
    "collapsed": true
   },
   "outputs": [],
   "source": [
    "#Hyperparameters for model\n",
    "LEARNING_RATE = 0.0005\n",
    "BATCH_SIZE = 100\n",
    "N_EPOCHS = 1000\n",
    "SEQ_SIZE = 10\n",
    "INPUT_DIM = 6\n",
    "HIDDEN_DIM = 6\n",
    "OUTPUT_DIM = 1\n",
    "PRED_STEP = 1\n",
    "TRAIN_RATIO = 0.8\n",
    "TEST_RATIO = 0.2"
   ]
  },
  {
   "cell_type": "code",
   "execution_count": null,
   "metadata": {},
   "outputs": [],
   "source": [
    "key, date, feature = read_stock_csv('S&P500.csv')\n",
    "_y_data = feature[:,3] #Close Stock Price\n",
    "_x_data = feature[:]\n",
    "\n",
    "print _x_data, '\\n\\n', _y_data\n",
    "print np.shape(_x_data), np.shape(_y_data) "
   ]
  },
  {
   "cell_type": "code",
   "execution_count": null,
   "metadata": {
    "scrolled": true
   },
   "outputs": [],
   "source": [
    "#data preparation\n",
    "assert TRAIN_RATIO + TEST_RATIO == 1.0\n",
    "assert len(_x_data) == len(_y_data)\n",
    "    \n",
    "x_data = []\n",
    "y_data = []\n",
    "\n",
    "# Shape of Sample? --> X: (SEQ_SIZE, INPUT_DIM), Y: (OUTPUT_DIM)\n",
    "for i in range(len(_x_data)-(SEQ_SIZE+PRED_STEP)+1):\n",
    "    _x = _x_data[i:i+SEQ_SIZE,:]\n",
    "    _y = _y_data[i+ SEQ_SIZE+(PRED_STEP-1)] #next data price\n",
    "    x_data.append(_x)\n",
    "    y_data.append(_y)            \n",
    "    \n",
    "data_len = len(x_data)\n",
    "train_len = int(data_len * TRAIN_RATIO)\n",
    "test_len = data_len - train_len\n",
    "print train_len, test_len\n",
    "    \n",
    "x_train, y_train = np.array(x_data[:train_len], dtype=float), np.array(y_data[:train_len], dtype=float)\n",
    "x_test, y_test = np.array(x_data[-test_len:], dtype=float), np.array(y_data[-test_len:], dtype=float)"
   ]
  },
  {
   "cell_type": "code",
   "execution_count": null,
   "metadata": {
    "collapsed": true
   },
   "outputs": [],
   "source": [
    "with tf.name_scope('placeholders'):\n",
    "    x_input = tf.placeholder(tf.float32, [None, SEQ_SIZE, INPUT_DIM])\n",
    "    y_input = tf.placeholder(tf.float32, [None, OUTPUT_DIM])"
   ]
  },
  {
   "cell_type": "code",
   "execution_count": null,
   "metadata": {
    "collapsed": true
   },
   "outputs": [],
   "source": [
    "global_step = tf.Variable(0, dtype=tf.int32, trainable=False, name='global_step')"
   ]
  },
  {
   "cell_type": "code",
   "execution_count": null,
   "metadata": {},
   "outputs": [],
   "source": [
    "#Construnct Neural Network Model (Last layer is for Regression)\n",
    "with tf.variable_scope(\"RNN1\") as scope:\n",
    "    cell = tf.contrib.rnn.BasicLSTMCell(num_units=HIDDEN_DIM, \n",
    "                                        state_is_tuple=True)\n",
    "    rnn_out, rnn_state = tf.nn.dynamic_rnn(cell, x_input, dtype=tf.float32)\n",
    "    print rnn_state\n",
    "    #shape of rnn_out = (BATCH_SIZE, SEQ_SIZE, NUM_UNITS)\n",
    "    \n",
    "with tf.variable_scope(\"FC1\") as scope:\n",
    "    #flatten_rnn_out = tf.contrib.layers.flatten(rnn_out) #Flatten rnn_output for full-connected layer\n",
    "    w_fc1 = tf.get_variable('w_fc1', [HIDDEN_DIM, OUTPUT_DIM], dtype=tf.float32)\n",
    "    b_fc1 = tf.get_variable('b_fc1', [OUTPUT_DIM])\n",
    "    print w_fc1, b_fc1\n",
    "    \n",
    "    y_pred = tf.matmul(rnn_out[:,-1,:], w_fc1) + b_fc1\n",
    "    #pred_mean, pred_std = tf.expand_dims(x_mean[:,:,3],axis=2), tf.expand_dims(x_std[:,:,3],axis=2)\n",
    "    #y_pred = _y_pred * pred_std + pred_mean"
   ]
  },
  {
   "cell_type": "code",
   "execution_count": null,
   "metadata": {
    "collapsed": true
   },
   "outputs": [],
   "source": [
    "#Define Loss Function and Optimizer\n",
    "loss = tf.reduce_mean(tf.square(y_pred-y_input))\n",
    "\n",
    "optimizer = tf.train.AdamOptimizer(LEARNING_RATE)\n",
    "train = optimizer.minimize(loss, global_step = global_step)\n",
    "\n",
    "#Session and Initialization of Variables\n",
    "sess = tf.Session()\n",
    "init = tf.global_variables_initializer()\n",
    "sess.run(init)"
   ]
  },
  {
   "cell_type": "code",
   "execution_count": null,
   "metadata": {},
   "outputs": [],
   "source": [
    "#Batch Running\n",
    "for i in range(N_EPOCHS):\n",
    "    temp_x, temp_y = shuffle_data(x_train, y_train)\n",
    "    batch_num = int(train_len/BATCH_SIZE)\n",
    "    index = 0\n",
    "    for j in range(batch_num-1): #Except Last Batch for preventing from range error\n",
    "        x_batch, y_batch = temp_x[index:index+BATCH_SIZE], temp_y[index:index+BATCH_SIZE]\n",
    "        y_batch = np.reshape(y_batch, [len(y_batch),1])\n",
    "        index +=BATCH_SIZE\n",
    "        loss_batch, _ = sess.run([loss, train], feed_dict={x_input: x_batch, y_input: y_batch})\n",
    "        print loss_batch"
   ]
  },
  {
   "cell_type": "code",
   "execution_count": null,
   "metadata": {},
   "outputs": [],
   "source": [
    "#Test Run and Visualization\n",
    "feed_dict = {x_input: x_test, y_input: np.reshape(y_test, [len(y_test),1])}\n",
    "test_loss, test_pred = sess.run([loss, y_pred], feed_dict=feed_dict)\n",
    "\n",
    "import matplotlib.pyplot as plt\n",
    "plt.plot(test_pred, 'b', label='Predict')\n",
    "plt.plot(y_test, 'r', label=\"True\")\n",
    "plt.title('S&P Close Price')\n",
    "plt.xlabel('Days')\n",
    "plt.ylabel('Price ($)')\n",
    "plt.legend()\n",
    "plt.show()\n",
    "\n"
   ]
  },
  {
   "cell_type": "code",
   "execution_count": null,
   "metadata": {
    "collapsed": true
   },
   "outputs": [],
   "source": []
  }
 ],
 "metadata": {
  "kernelspec": {
   "display_name": "Python 2",
   "language": "python",
   "name": "python2"
  },
  "language_info": {
   "codemirror_mode": {
    "name": "ipython",
    "version": 2
   },
   "file_extension": ".py",
   "mimetype": "text/x-python",
   "name": "python",
   "nbconvert_exporter": "python",
   "pygments_lexer": "ipython2",
   "version": "2.7.12"
  }
 },
 "nbformat": 4,
 "nbformat_minor": 2
}
