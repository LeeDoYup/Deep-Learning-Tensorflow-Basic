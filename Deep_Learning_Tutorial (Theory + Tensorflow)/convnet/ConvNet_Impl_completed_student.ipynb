{
 "cells": [
  {
   "cell_type": "code",
   "execution_count": null,
   "metadata": {
    "collapsed": true
   },
   "outputs": [],
   "source": [
    "from __future__ import absolute_import\n",
    "from __future__ import division\n",
    "from __future__ import print_function\n",
    "\n",
    "import os\n",
    "os.environ['TF_CPP_MIN_LOG_LEVEL']='2'\n",
    "#Tensorflow log management: '1':info, '2':warning, '3': error\n",
    "\n",
    "import time \n",
    "\n",
    "import tensorflow as tf\n",
    "import tensorflow.contrib.layers as layers\n",
    "from tensorflow.examples.tutorials.mnist import input_data\n",
    "#Tutorials have mnist data files and queue"
   ]
  },
  {
   "cell_type": "code",
   "execution_count": null,
   "metadata": {},
   "outputs": [],
   "source": [
    "mnist = input_data.read_data_sets(\"/data/mnist\", one_hot=True)\n",
    "#MNIST images' has 28*28=764 features. Gray Image: Depth=1"
   ]
  },
  {
   "cell_type": "code",
   "execution_count": null,
   "metadata": {
    "collapsed": true
   },
   "outputs": [],
   "source": [
    "#Hyperparameters\n",
    "N_CLASSES = 10\n",
    "LEARNING_RATE = 0.001\n",
    "BATCH_SIZE = 128\n",
    "SKIP_STEP = 10\n",
    "DROPOUT = 0.75\n",
    "N_EPOCHS = 1"
   ]
  },
  {
   "cell_type": "code",
   "execution_count": null,
   "metadata": {
    "collapsed": true
   },
   "outputs": [],
   "source": [
    "#Create Placeholder. X and Y\n",
    "with tf.name_scope('data'):\n",
    "    X = ###shape = [None, 784]\n",
    "    Y = ###shape = [None, 10]\n",
    "\n",
    "dropout = tf.placeholder(tf.float32, name='dropout') #Dropout Rate\n",
    "\n",
    "#Global_step for writer\n",
    "global_step = tf.Variable(0, dtype=tf.int32, trainable=False, name='global_step')"
   ]
  },
  {
   "cell_type": "code",
   "execution_count": null,
   "metadata": {
    "collapsed": true
   },
   "outputs": [],
   "source": [
    "# Construnct Deep Learning Model conv1-pool1-conv2-pool2-fc-softmax\n",
    "# first, reshape the image to [BATCH_SIZE, 28, 28, 1] to make it work with tf.nn.conv2d\n",
    "with tf.variable_scope('conv1') as scope:\n",
    "    images = ###Reshape input with [BATCH_SIZE, HEIGHT, WEDTH, DEPTH]\n",
    "    kernel = ###Make 32 number of 5*5 filters, initializer=tf.truncated_normal_initializer()\n",
    "    biases = ###Make bias term of 32 number of filters, initializer=tf.random_normal_initializer()\n",
    "    conv = ###Make convolutional layer with conv2d, stride=1, padding=SAME\n",
    "    conv1 = ###Make activation ReLu of conv\n",
    "\n",
    "    # (output): [BATCH_SIZE x 28 x 28 x 32]\n",
    "    # conv1 = layers.conv2d(images, 32, 5, 1, activation_fn=tf.nn.relu, padding='SAME')\n",
    "\n",
    "with tf.variable_scope('pool1') as scope:\n",
    "    pool1 = ###Make max pooling layer with 2*2 filter, stride=2, padding=SAME"
   ]
  },
  {
   "cell_type": "code",
   "execution_count": null,
   "metadata": {
    "collapsed": true
   },
   "outputs": [],
   "source": [
    "with tf.variable_scope('conv2') as scope:\n",
    "    kernel = ###Make 64 number of 5*5 filters, initializer=tf.truncated_normal_initializer()\n",
    "    biases = ###Make bias term of 32 number of filters\n",
    "    conv = ###Make convolutional layer with conv2d, stride=1, padding=SAME\n",
    "    conv2 = ###Make activation ReLu of conv\n",
    "\n",
    "with tf.variable_scope('pool2') as scope:\n",
    "    # similar to pool1\n",
    "    pool2 = ###Make max pooling layer with 2*2 filter, stride=2, padding=SAME"
   ]
  },
  {
   "cell_type": "code",
   "execution_count": null,
   "metadata": {
    "collapsed": true
   },
   "outputs": [],
   "source": [
    "with tf.variable_scope('fc') as scope:\n",
    "    pool2 = ###Flatten pool2 for full-connected layer\n",
    "    input_features = 7 * 7 * 64\n",
    "    w = tf.get_variable('weights', [input_features, 1024],\n",
    "                        initializer=tf.truncated_normal_initializer())\n",
    "    b = tf.get_variable('biases', [1024],\n",
    "                        initializer=tf.constant_initializer(0.0))\n",
    "\n",
    "\n",
    "    fc = tf.nn.relu(tf.matmul(pool2, w) + b, name='relu')\n",
    "    # fc = layers.fully_connected(pool2, 1024, tf.nn.relu)\n",
    "\n",
    "    fc = tf.nn.dropout(fc, dropout, name='relu_dropout')"
   ]
  },
  {
   "cell_type": "code",
   "execution_count": null,
   "metadata": {
    "collapsed": true
   },
   "outputs": [],
   "source": [
    "with tf.variable_scope('softmax_linear') as scope:\n",
    "    w = tf.get_variable('weights', [1024, N_CLASSES],\n",
    "                        initializer=tf.truncated_normal_initializer())\n",
    "    b = tf.get_variable('biases', [N_CLASSES],\n",
    "                        initializer=tf.random_normal_initializer())\n",
    "    logits = tf.matmul(fc, w) + b\n",
    "    #In here, not use softmax function because we will use tf.nn.softmax_cross_entropy_with_logits"
   ]
  },
  {
   "cell_type": "code",
   "execution_count": null,
   "metadata": {
    "collapsed": true
   },
   "outputs": [],
   "source": [
    "with tf.name_scope('loss'):\n",
    "    entropy = tf.nn.softmax_cross_entropy_with_logits(labels=Y, logits=logits)\n",
    "    loss = tf.reduce_mean(entropy, name='loss')"
   ]
  },
  {
   "cell_type": "code",
   "execution_count": null,
   "metadata": {
    "collapsed": true
   },
   "outputs": [],
   "source": [
    "with tf.name_scope('summaries'):\n",
    "    ###Make summary scalar, recording loss. name='loss'\n",
    "    ###Make summary histogram, recording loss. name='histogram_loss'\n",
    "    summary_op = tf.summary.merge_all() "
   ]
  },
  {
   "cell_type": "code",
   "execution_count": null,
   "metadata": {
    "collapsed": true
   },
   "outputs": [],
   "source": [
    "optimizer = tf.train.AdamOptimizer(LEARNING_RATE)\n",
    "train = ###minimize loss"
   ]
  },
  {
   "cell_type": "code",
   "execution_count": null,
   "metadata": {},
   "outputs": [],
   "source": [
    "os.mkdir('./checkpoints')\n",
    "os.mkdir('./checkpoints/convnet_mnist')"
   ]
  },
  {
   "cell_type": "code",
   "execution_count": null,
   "metadata": {
    "collapsed": true
   },
   "outputs": [],
   "source": [
    "sess = tf.Session()\n",
    "init = tf.global_variables_initializer()\n",
    "sess.run(init)"
   ]
  },
  {
   "cell_type": "code",
   "execution_count": null,
   "metadata": {
    "collapsed": true
   },
   "outputs": [],
   "source": [
    "# to visualize using TensorBoard\n",
    "writer = ###Make tensorboard writer in './graphs/convnet'"
   ]
  },
  {
   "cell_type": "code",
   "execution_count": null,
   "metadata": {
    "collapsed": true
   },
   "outputs": [],
   "source": [
    "saver = ###Declare saver module\n",
    "ckpt = tf.train.get_checkpoint_state(os.path.dirname('./checkpoints/convnet_mnist/checkpoint'))\n",
    "# if that checkpoint exists, restore from checkpoint\n",
    "if ckpt and ckpt.model_checkpoint_path:\n",
    "    saver.restore(sess, ckpt.model_checkpoint_path)"
   ]
  },
  {
   "cell_type": "code",
   "execution_count": null,
   "metadata": {},
   "outputs": [],
   "source": [
    "initial_step = sess.run(global_step)\n",
    "\n",
    "start_time = time.time()\n",
    "n_batches = int(mnist.train.num_examples / BATCH_SIZE)\n",
    "\n",
    "total_loss = 0.0\n",
    "for index in range(initial_step, n_batches * N_EPOCHS): # train the model n_epochs times\n",
    "    X_batch, Y_batch = mnist.train.next_batch(BATCH_SIZE)\n",
    "    _, loss_batch, summary = ###run train, loss, summary_op with Feed_dict\n",
    "    ### Add summary result to writer, global_variable=index (why?)\n",
    "    total_loss += loss_batch\n",
    "    if (index + 1) % SKIP_STEP == 0:\n",
    "        print('Average loss at step {}: {:5.1f}'.format(index + 1, total_loss / SKIP_STEP))\n",
    "        total_loss = 0.0\n",
    "        saver.save(sess, 'checkpoints/convnet_mnist/mnist-convnet', index)\n",
    "\n",
    "print(\"Optimization Finished!\") # should be around 0.35 after 25 epochs\n",
    "print(\"Total time: {0} seconds\".format(time.time() - start_time))"
   ]
  },
  {
   "cell_type": "code",
   "execution_count": null,
   "metadata": {},
   "outputs": [],
   "source": [
    "# test the model\n",
    "n_batches = int(mnist.test.num_examples/BATCH_SIZE)\n",
    "total_correct_preds = 0\n",
    "\n",
    "for i in range(n_batches):\n",
    "    X_batch, Y_batch = mnist.test.next_batch(BATCH_SIZE)\n",
    "    _, loss_batch, logits_batch = sess.run([train, loss, logits], \n",
    "                                    feed_dict={X: X_batch, Y:Y_batch, dropout: ???})\n",
    "    \n",
    "    preds = tf.nn.softmax(logits_batch)\n",
    "    correct_preds = tf.equal(tf.argmax(preds, axis=1), tf.argmax(Y_batch, axis=1))\n",
    "    accuracy = tf.reduce_sum(tf.cast(correct_preds, tf.float32))\n",
    "    total_correct_preds += sess.run(accuracy)   \n",
    "\n",
    "total_test_num = int(mnist.test.num_examples/BATCH_SIZE)*BATCH_SIZE\n",
    "print(\"Accuracy {0}\".format(total_correct_preds/total_test_num))"
   ]
  }
 ],
 "metadata": {
  "kernelspec": {
   "display_name": "Python 2",
   "language": "python",
   "name": "python2"
  },
  "language_info": {
   "codemirror_mode": {
    "name": "ipython",
    "version": 2
   },
   "file_extension": ".py",
   "mimetype": "text/x-python",
   "name": "python",
   "nbconvert_exporter": "python",
   "pygments_lexer": "ipython2",
   "version": "2.7.12"
  }
 },
 "nbformat": 4,
 "nbformat_minor": 2
}
