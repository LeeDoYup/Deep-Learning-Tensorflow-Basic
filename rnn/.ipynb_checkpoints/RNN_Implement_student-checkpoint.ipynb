{
 "cells": [
  {
   "cell_type": "code",
   "execution_count": null,
   "metadata": {
    "collapsed": true
   },
   "outputs": [],
   "source": [
    "import tensorflow as tf\n",
    "import numpy as np\n",
    "import pandas as pd\n",
    "from data_functions import *"
   ]
  },
  {
   "cell_type": "code",
   "execution_count": null,
   "metadata": {
    "collapsed": true
   },
   "outputs": [],
   "source": [
    "def read_stock_csv(filename):\n",
    "    data = ###read filename with pandas, read_csv\n",
    "    key = np.array(data.keys(), dtype='string')\n",
    "    value = data.as_matrix() #Data type of value is 'object' --> need to be converted\n",
    "    date, feature = np.array(value[:,0], dtype='string'), np.array(value[:,1:], dtype='float32')\n",
    "    feature = (feature - np.mean(feature, axis=0))/np.std(feature,axis=0)\n",
    "    #Data Normalization for Feature Scaling\n",
    "    return key, date, feature\n",
    "    "
   ]
  },
  {
   "cell_type": "code",
   "execution_count": null,
   "metadata": {
    "collapsed": true
   },
   "outputs": [],
   "source": [
    "#Hyperparameters for model\n",
    "LEARNING_RATE = 0.0005\n",
    "BATCH_SIZE = 100\n",
    "N_EPOCHS = 1000\n",
    "SEQ_SIZE = 10 #Sequence size of x_input\n",
    "INPUT_DIM = 6\n",
    "HIDDEN_DIM = 6 #RNN Hidden state dimension\n",
    "OUTPUT_DIM = 1 #Close Price\n",
    "PRED_STEP = 1 #Time step ahead, when we would like to predict (PRED-step ahead forecasting)\n",
    "TRAIN_RATIO = 0.8\n",
    "TEST_RATIO = 0.2"
   ]
  },
  {
   "cell_type": "code",
   "execution_count": null,
   "metadata": {},
   "outputs": [],
   "source": [
    "key, date, feature = read_stock_csv('S&P500.csv')\n",
    "_y_data = feature[:,3] #Close Stock Price\n",
    "_x_data = feature[:]\n",
    "\n",
    "print _x_data, '\\n\\n', _y_data\n",
    "print np.shape(_x_data), np.shape(_y_data) "
   ]
  },
  {
   "cell_type": "code",
   "execution_count": null,
   "metadata": {
    "scrolled": true
   },
   "outputs": [],
   "source": [
    "#data preparation\n",
    "assert TRAIN_RATIO + TEST_RATIO == 1.0\n",
    "assert len(_x_data) == len(_y_data)\n",
    "    \n",
    "x_data = []\n",
    "y_data = []\n",
    "\n",
    "# Shape of Sample? --> X: (SEQ_SIZE, INPUT_DIM), Y: (OUTPUT_DIM)\n",
    "for i in range(len(_x_data)-(SEQ_SIZE+PRED_STEP)+1):\n",
    "    _x = _x_data[i:i+SEQ_SIZE,:]\n",
    "    _y = _y_data[i+ SEQ_SIZE+(PRED_STEP-1)] #next data price\n",
    "    x_data.append(_x)\n",
    "    y_data.append(_y)            \n",
    "    \n",
    "data_len = len(x_data)\n",
    "train_len = int(data_len * TRAIN_RATIO)\n",
    "test_len = data_len - train_len\n",
    "print train_len, test_len\n",
    "    \n",
    "x_train, y_train = np.array(x_data[:train_len], dtype=float), np.array(y_data[:train_len], dtype=float)\n",
    "x_test, y_test = np.array(x_data[-test_len:], dtype=float), np.array(y_data[-test_len:], dtype=float)"
   ]
  },
  {
   "cell_type": "code",
   "execution_count": null,
   "metadata": {
    "collapsed": true
   },
   "outputs": [],
   "source": [
    "with tf.name_scope('placeholders'):\n",
    "    x_input = tf.placeholder(tf.float32, [None, SEQ_SIZE, INPUT_DIM])\n",
    "    y_input = tf.placeholder(tf.float32, [None, OUTPUT_DIM])"
   ]
  },
  {
   "cell_type": "code",
   "execution_count": null,
   "metadata": {
    "collapsed": true
   },
   "outputs": [],
   "source": [
    "global_step = tf.Variable(0, dtype=tf.int32, trainable=False, name='global_step')"
   ]
  },
  {
   "cell_type": "code",
   "execution_count": null,
   "metadata": {},
   "outputs": [],
   "source": [
    "#Construnct Neural Network Model (Last layer is for Regression)\n",
    "with tf.variable_scope(\"RNN1\") as scope:\n",
    "    cell = ###Make BasicLSTMCell with num_units = HIDDEN_UNIT\n",
    "    rnn_out, rnn_state = ###Make dynamic rnn with cell\n",
    "    #shape of rnn_out = (BATCH_SIZE, SEQ_SIZE, NUM_UNITS)\n",
    "    \n",
    "with tf.variable_scope(\"FC1\") as scope:\n",
    "    w_fc1 = ###Make variable of fc1 weight, shape = [NUM_UNITS, OUTPUT_DIM]\n",
    "    b_fc1 = ###Make variable of fc1 bias, shape = [OUTPUT_DIM]\n",
    "    \n",
    "    y_pred = ###Linear Regression of last output of rnn"
   ]
  },
  {
   "cell_type": "code",
   "execution_count": null,
   "metadata": {
    "collapsed": true
   },
   "outputs": [],
   "source": [
    "#Define Loss Function and Optimizer\n",
    "loss = ###Make mean square error with tf.square and tf.reduce_mean\n",
    "\n",
    "optimizer = ###Adam Optimizer with LEARNING_RATE\n",
    "train = ###Minimize loss function\n",
    "\n",
    "#Session and Initialization of Variables\n",
    "sess = tf.Session()\n",
    "### Initialize variables"
   ]
  },
  {
   "cell_type": "code",
   "execution_count": null,
   "metadata": {},
   "outputs": [],
   "source": [
    "#Batch Running\n",
    "for i in range(N_EPOCHS):\n",
    "    temp_x, temp_y = shuffle_data(x_train, y_train)\n",
    "    batch_num = int(train_len/BATCH_SIZE)\n",
    "    index = 0\n",
    "    for j in range(batch_num-1): #Except Last Batch for preventing from range error\n",
    "        x_batch, y_batch = temp_x[index:index+BATCH_SIZE], temp_y[index:index+BATCH_SIZE]\n",
    "        y_batch = np.reshape(y_batch, [len(y_batch),1])\n",
    "        index +=BATCH_SIZE\n",
    "        loss_batch, _ = ### run loss and train using feed_dict\n",
    "        print loss_batch"
   ]
  },
  {
   "cell_type": "code",
   "execution_count": null,
   "metadata": {},
   "outputs": [],
   "source": [
    "#Test Run and Visualization\n",
    "feed_dict = {x_input: x_test, y_input: np.reshape(y_test, [len(y_test),1])}\n",
    "test_loss, test_pred = sess.run([loss, y_pred], feed_dict=feed_dict)\n",
    "\n",
    "import matplotlib.pyplot as plt\n",
    "plt.plot(test_pred, 'b', label='Predict')\n",
    "plt.plot(y_test, 'r', label=\"True\")\n",
    "plt.title('S&P Close Price')\n",
    "plt.xlabel('Days')\n",
    "plt.ylabel('Price ($)')\n",
    "plt.legend()\n",
    "plt.show()\n",
    "\n"
   ]
  },
  {
   "cell_type": "code",
   "execution_count": null,
   "metadata": {
    "collapsed": true
   },
   "outputs": [],
   "source": []
  }
 ],
 "metadata": {
  "kernelspec": {
   "display_name": "Python 2",
   "language": "python",
   "name": "python2"
  },
  "language_info": {
   "codemirror_mode": {
    "name": "ipython",
    "version": 2
   },
   "file_extension": ".py",
   "mimetype": "text/x-python",
   "name": "python",
   "nbconvert_exporter": "python",
   "pygments_lexer": "ipython2",
   "version": "2.7.12"
  }
 },
 "nbformat": 4,
 "nbformat_minor": 2
}
